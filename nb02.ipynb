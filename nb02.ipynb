{
  "nbformat": 4,
  "nbformat_minor": 0,
  "metadata": {
    "colab": {
      "provenance": [],
      "authorship_tag": "ABX9TyPcXoEbC/jBxGxjWwOXaMIC",
      "include_colab_link": true
    },
    "kernelspec": {
      "name": "python3",
      "display_name": "Python 3"
    },
    "language_info": {
      "name": "python"
    }
  },
  "cells": [
    {
      "cell_type": "markdown",
      "metadata": {
        "id": "view-in-github",
        "colab_type": "text"
      },
      "source": [
        "<a href=\"https://colab.research.google.com/github/imchihchao/application-of-programming/blob/main/nb02.ipynb\" target=\"_parent\"><img src=\"https://colab.research.google.com/assets/colab-badge.svg\" alt=\"Open In Colab\"/></a>"
      ]
    },
    {
      "cell_type": "markdown",
      "source": [
        "## Basic"
      ],
      "metadata": {
        "id": "oj3JD8sJVrId"
      }
    },
    {
      "cell_type": "code",
      "source": [
        "# 註解"
      ],
      "metadata": {
        "id": "LngUKpsIVqc1"
      },
      "execution_count": null,
      "outputs": []
    },
    {
      "cell_type": "code",
      "execution_count": null,
      "metadata": {
        "id": "eNX1VmnFy7Lk"
      },
      "outputs": [],
      "source": [
        "# 資料型態"
      ]
    },
    {
      "cell_type": "code",
      "source": [
        "# 資料輸出與格式化"
      ],
      "metadata": {
        "id": "O3-rj7VMV3YD"
      },
      "execution_count": null,
      "outputs": []
    },
    {
      "cell_type": "code",
      "source": [
        "# 資料輸入"
      ],
      "metadata": {
        "id": "kXh9z2qbWE0F"
      },
      "execution_count": null,
      "outputs": []
    },
    {
      "cell_type": "markdown",
      "source": [
        "## Expression"
      ],
      "metadata": {
        "id": "rNvdMYw3WRHH"
      }
    },
    {
      "cell_type": "code",
      "source": [
        "# 識別字"
      ],
      "metadata": {
        "id": "OTYFl7bIWW7J"
      },
      "execution_count": null,
      "outputs": []
    },
    {
      "cell_type": "markdown",
      "source": [
        "## Control Flow"
      ],
      "metadata": {
        "id": "fah45MYyW2_B"
      }
    },
    {
      "cell_type": "code",
      "source": [
        "# 條件判斷 - 單向條件"
      ],
      "metadata": {
        "id": "HedkYMjvW5gI"
      },
      "execution_count": null,
      "outputs": []
    },
    {
      "cell_type": "code",
      "source": [
        "# 條件判斷 - 雙向條件"
      ],
      "metadata": {
        "id": "-lJ20EU-XCTc"
      },
      "execution_count": null,
      "outputs": []
    },
    {
      "cell_type": "code",
      "source": [
        "# 條件判斷 - 多向條件"
      ],
      "metadata": {
        "id": "miyV1xL8XHGV"
      },
      "execution_count": null,
      "outputs": []
    }
  ]
}