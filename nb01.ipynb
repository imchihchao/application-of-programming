{
  "nbformat": 4,
  "nbformat_minor": 0,
  "metadata": {
    "colab": {
      "provenance": [],
      "authorship_tag": "ABX9TyN2X76gKJA7AZ+OPytssQoq",
      "include_colab_link": true
    },
    "kernelspec": {
      "name": "python3",
      "display_name": "Python 3"
    },
    "language_info": {
      "name": "python"
    }
  },
  "cells": [
    {
      "cell_type": "markdown",
      "metadata": {
        "id": "view-in-github",
        "colab_type": "text"
      },
      "source": [
        "<a href=\"https://colab.research.google.com/github/imchihchao/application-of-programming/blob/main/nb01.ipynb\" target=\"_parent\"><img src=\"https://colab.research.google.com/assets/colab-badge.svg\" alt=\"Open In Colab\"/></a>"
      ]
    },
    {
      "cell_type": "markdown",
      "source": [
        "## Colab 介面"
      ],
      "metadata": {
        "id": "99mRZ5dhgjrh"
      }
    },
    {
      "cell_type": "markdown",
      "source": [
        "## Colab 設定"
      ],
      "metadata": {
        "id": "Fq-BEjWCgq64"
      }
    },
    {
      "cell_type": "markdown",
      "source": [
        "## Markdown"
      ],
      "metadata": {
        "id": "euKmt7nigw-H"
      }
    },
    {
      "cell_type": "markdown",
      "source": [
        "### 基本語法 - 標題 (Heading)\n",
        "\n",
        "\n",
        "---\n",
        "\n",
        "### 基本語法 - 段落與換行\n",
        "\n",
        "\n",
        "\n",
        "---\n",
        "\n",
        "### 基本語法 - 清單 (List)\n",
        "\n",
        "\n",
        "\n",
        "---\n",
        "\n",
        "### 基本語法 - 強調 (Emphasis)\n",
        "\n",
        "\n",
        "---\n",
        "\n",
        "### 基本語法 - 連結 (Link) 與圖片 (Image)\n",
        "\n",
        "\n",
        "---\n",
        "\n",
        "### 基本語法 - 區塊引言 (Blockquote)\n",
        "\n",
        "\n",
        "---\n",
        "\n",
        "### 基本語法 - 程式碼 (Code) 與程式碼區塊 (Code Block)\n",
        "\n",
        "\n",
        "---\n",
        "\n",
        "### 基本語法 - 分隔線 (Horizontal Rule)\n",
        "\n",
        "\n",
        "\n",
        "---\n",
        "\n",
        "### 基本語法 - 表格"
      ],
      "metadata": {
        "id": "EdbLW3N2g8jp"
      }
    },
    {
      "cell_type": "code",
      "execution_count": null,
      "metadata": {
        "id": "A24_d0i3cv-a"
      },
      "outputs": [],
      "source": []
    }
  ]
}