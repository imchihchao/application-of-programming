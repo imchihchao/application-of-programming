{
  "nbformat": 4,
  "nbformat_minor": 0,
  "metadata": {
    "colab": {
      "provenance": [],
      "toc_visible": true,
      "authorship_tag": "ABX9TyNc/O79zpmEO9hQG1yuwu1l",
      "include_colab_link": true
    },
    "kernelspec": {
      "name": "python3",
      "display_name": "Python 3"
    },
    "language_info": {
      "name": "python"
    }
  },
  "cells": [
    {
      "cell_type": "markdown",
      "metadata": {
        "id": "view-in-github",
        "colab_type": "text"
      },
      "source": [
        "<a href=\"https://colab.research.google.com/github/imchihchao/application-of-programming/blob/main/nb01.ipynb\" target=\"_parent\"><img src=\"https://colab.research.google.com/assets/colab-badge.svg\" alt=\"Open In Colab\"/></a>"
      ]
    },
    {
      "cell_type": "markdown",
      "source": [
        "## Basic"
      ],
      "metadata": {
        "id": "oj3JD8sJVrId"
      }
    },
    {
      "cell_type": "code",
      "source": [
        "# 註解"
      ],
      "metadata": {
        "id": "LngUKpsIVqc1"
      },
      "execution_count": null,
      "outputs": []
    },
    {
      "cell_type": "code",
      "execution_count": null,
      "metadata": {
        "id": "eNX1VmnFy7Lk"
      },
      "outputs": [],
      "source": [
        "# 資料型態"
      ]
    },
    {
      "cell_type": "code",
      "source": [
        "# 資料輸出與格式化"
      ],
      "metadata": {
        "id": "O3-rj7VMV3YD"
      },
      "execution_count": null,
      "outputs": []
    },
    {
      "cell_type": "code",
      "source": [
        "# 資料輸入"
      ],
      "metadata": {
        "id": "kXh9z2qbWE0F"
      },
      "execution_count": null,
      "outputs": []
    },
    {
      "cell_type": "markdown",
      "source": [
        "## Expression"
      ],
      "metadata": {
        "id": "rNvdMYw3WRHH"
      }
    },
    {
      "cell_type": "code",
      "source": [
        "# 識別字"
      ],
      "metadata": {
        "id": "OTYFl7bIWW7J"
      },
      "execution_count": null,
      "outputs": []
    },
    {
      "cell_type": "markdown",
      "source": [
        "## Control Flow"
      ],
      "metadata": {
        "id": "fah45MYyW2_B"
      }
    },
    {
      "cell_type": "markdown",
      "source": [
        "### 條件判斷 - 單向條件"
      ],
      "metadata": {
        "id": "ofjyzpizSFan"
      }
    },
    {
      "cell_type": "code",
      "source": [
        "# 高鐵兒童免費"
      ],
      "metadata": {
        "id": "HedkYMjvW5gI"
      },
      "execution_count": null,
      "outputs": []
    },
    {
      "cell_type": "markdown",
      "source": [
        "### 條件判斷 - 雙向條件"
      ],
      "metadata": {
        "id": "DXCkuXYESJDF"
      }
    },
    {
      "cell_type": "code",
      "source": [
        "# 輸入分數後，判斷分數是否及格。"
      ],
      "metadata": {
        "id": "-lJ20EU-XCTc"
      },
      "execution_count": null,
      "outputs": []
    },
    {
      "cell_type": "markdown",
      "source": [
        "### 條件判斷 - 多向條件"
      ],
      "metadata": {
        "id": "WgFok69xSM9M"
      }
    },
    {
      "cell_type": "code",
      "source": [
        "# 輸入分數判斷分數等級"
      ],
      "metadata": {
        "id": "miyV1xL8XHGV"
      },
      "execution_count": null,
      "outputs": []
    },
    {
      "cell_type": "markdown",
      "source": [
        "### 迴圈結構 - for 迴圈"
      ],
      "metadata": {
        "id": "hs_N4zYRRpN3"
      }
    },
    {
      "cell_type": "code",
      "source": [
        "# 等差級數和"
      ],
      "metadata": {
        "id": "gRlnC4AISVBF"
      },
      "execution_count": null,
      "outputs": []
    },
    {
      "cell_type": "markdown",
      "source": [
        "### 迴圈結構 - while 迴圈"
      ],
      "metadata": {
        "id": "A-5Fj7YMR1a6"
      }
    },
    {
      "cell_type": "code",
      "source": [
        "# 輸入正確的密碼才能通過"
      ],
      "metadata": {
        "id": "5X6DlNsiSSp9"
      },
      "execution_count": null,
      "outputs": []
    },
    {
      "cell_type": "markdown",
      "source": [
        "### 迴圈結構 - 特殊控制"
      ],
      "metadata": {
        "id": "SaxjdRcER43L"
      }
    },
    {
      "cell_type": "markdown",
      "source": [
        "### 例外處理"
      ],
      "metadata": {
        "id": "5JjtC4_fR7st"
      }
    },
    {
      "cell_type": "code",
      "source": [
        "# 取餘數"
      ],
      "metadata": {
        "id": "Y8azjCC9SCKP"
      },
      "execution_count": null,
      "outputs": []
    },
    {
      "cell_type": "markdown",
      "source": [
        "## String"
      ],
      "metadata": {
        "id": "zwsQPLD-SjhT"
      }
    },
    {
      "cell_type": "markdown",
      "source": [
        "### 字串格式化"
      ],
      "metadata": {
        "id": "zNWzfjtFSxQi"
      }
    },
    {
      "cell_type": "code",
      "source": [
        "# % () 格式"
      ],
      "metadata": {
        "id": "CO4om3ROTAzd"
      },
      "execution_count": null,
      "outputs": []
    },
    {
      "cell_type": "code",
      "source": [
        "# str.format() 格式"
      ],
      "metadata": {
        "id": "OP67XJo6TGjf"
      },
      "execution_count": null,
      "outputs": []
    },
    {
      "cell_type": "code",
      "source": [
        "# f'string' 格式"
      ],
      "metadata": {
        "id": "bfQ8eabtTNSC"
      },
      "execution_count": null,
      "outputs": []
    },
    {
      "cell_type": "markdown",
      "source": [
        "### 字串切片"
      ],
      "metadata": {
        "id": "gzZVt7KOTTNX"
      }
    },
    {
      "cell_type": "code",
      "source": [],
      "metadata": {
        "id": "5zl2mqolcfvq"
      },
      "execution_count": null,
      "outputs": []
    },
    {
      "cell_type": "markdown",
      "source": [
        "### 常用的字串方法"
      ],
      "metadata": {
        "id": "zWJO-pKOcgXZ"
      }
    },
    {
      "cell_type": "code",
      "source": [
        "# split()"
      ],
      "metadata": {
        "id": "25FpcgCqcpTv"
      },
      "execution_count": null,
      "outputs": []
    },
    {
      "cell_type": "code",
      "source": [
        "# replace()"
      ],
      "metadata": {
        "id": "qwXccDTFcxu6"
      },
      "execution_count": null,
      "outputs": []
    },
    {
      "cell_type": "markdown",
      "source": [
        "## Container"
      ],
      "metadata": {
        "id": "s5JUYItcc8rb"
      }
    },
    {
      "cell_type": "markdown",
      "source": [
        "### Tuple (序對)"
      ],
      "metadata": {
        "id": "3-GDI-5-dUci"
      }
    },
    {
      "cell_type": "code",
      "source": [],
      "metadata": {
        "id": "H_7giE3hdXAm"
      },
      "execution_count": null,
      "outputs": []
    },
    {
      "cell_type": "markdown",
      "source": [
        "### List (串列)"
      ],
      "metadata": {
        "id": "GU2-EgStdXhM"
      }
    },
    {
      "cell_type": "code",
      "source": [
        "# 串列 sort()"
      ],
      "metadata": {
        "id": "6n6NuiNedYa8"
      },
      "execution_count": null,
      "outputs": []
    },
    {
      "cell_type": "code",
      "source": [
        "# 串列 map()"
      ],
      "metadata": {
        "id": "4yJs6osBdf8A"
      },
      "execution_count": null,
      "outputs": []
    },
    {
      "cell_type": "code",
      "source": [
        "# 串列 join()"
      ],
      "metadata": {
        "id": "EYWplPt9dnCq"
      },
      "execution_count": null,
      "outputs": []
    },
    {
      "cell_type": "code",
      "source": [
        "# 串列 enumerate()"
      ],
      "metadata": {
        "id": "vnBT0pCPeGZ_"
      },
      "execution_count": null,
      "outputs": []
    },
    {
      "cell_type": "code",
      "source": [
        "# 列表生成式"
      ],
      "metadata": {
        "id": "e2SEacUXeNSi"
      },
      "execution_count": null,
      "outputs": []
    },
    {
      "cell_type": "code",
      "source": [
        "# 列表生成式, 只保留偶數"
      ],
      "metadata": {
        "id": "_N1vYaLveW8w"
      },
      "execution_count": null,
      "outputs": []
    },
    {
      "cell_type": "markdown",
      "source": [
        "### Dict（字典）"
      ],
      "metadata": {
        "id": "gzDJSTJyeesr"
      }
    },
    {
      "cell_type": "code",
      "source": [
        "# 建立字典\n",
        "student_scores = {\"Alice\": 85, \"Bob\": 90, \"Charlie\": 78}\n",
        "# 訪問字典中的值\n",
        "\n",
        "# 新增或更新字典中的項目\n",
        "\n",
        "# 刪除字典中的項目\n"
      ],
      "metadata": {
        "id": "ohFA0JDynB7V"
      },
      "execution_count": null,
      "outputs": []
    },
    {
      "cell_type": "code",
      "source": [
        "# 使用 get 方法安全地查找值\n",
        "\n",
        "# 檢查某個鍵是否存在於字典中\n"
      ],
      "metadata": {
        "id": "F_Xiea6QnLuw"
      },
      "execution_count": null,
      "outputs": []
    },
    {
      "cell_type": "code",
      "source": [
        "# 獲取所有鍵\n",
        "\n",
        "# 獲取所有值\n",
        "\n",
        "# 獲取所有鍵值對\n"
      ],
      "metadata": {
        "id": "ZY3wqYC4ngNS"
      },
      "execution_count": null,
      "outputs": []
    },
    {
      "cell_type": "code",
      "source": [
        "# 遍歷鍵值對\n",
        "\n",
        "# 遍歷鍵\n",
        "\n",
        "# 遍歷值\n"
      ],
      "metadata": {
        "id": "jmvpPQWynpk-"
      },
      "execution_count": null,
      "outputs": []
    },
    {
      "cell_type": "markdown",
      "source": [
        "### Set（集合）"
      ],
      "metadata": {
        "id": "eBujH5kjnxR4"
      }
    }
  ]
}