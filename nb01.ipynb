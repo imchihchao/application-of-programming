{
  "nbformat": 4,
  "nbformat_minor": 0,
  "metadata": {
    "colab": {
      "provenance": [],
      "authorship_tag": "ABX9TyOfKhrE+lkgwGCJS13Hfbo4",
      "include_colab_link": true
    },
    "kernelspec": {
      "name": "python3",
      "display_name": "Python 3"
    },
    "language_info": {
      "name": "python"
    }
  },
  "cells": [
    {
      "cell_type": "markdown",
      "metadata": {
        "id": "view-in-github",
        "colab_type": "text"
      },
      "source": [
        "<a href=\"https://colab.research.google.com/github/imchihchao/application-of-programming/blob/main/nb01.ipynb\" target=\"_parent\"><img src=\"https://colab.research.google.com/assets/colab-badge.svg\" alt=\"Open In Colab\"/></a>"
      ]
    },
    {
      "cell_type": "markdown",
      "source": [
        "## Basic"
      ],
      "metadata": {
        "id": "oj3JD8sJVrId"
      }
    },
    {
      "cell_type": "code",
      "source": [
        "# 註解"
      ],
      "metadata": {
        "id": "LngUKpsIVqc1"
      },
      "execution_count": null,
      "outputs": []
    },
    {
      "cell_type": "code",
      "execution_count": null,
      "metadata": {
        "id": "eNX1VmnFy7Lk"
      },
      "outputs": [],
      "source": [
        "# 資料型態"
      ]
    },
    {
      "cell_type": "code",
      "source": [
        "# 資料輸出與格式化"
      ],
      "metadata": {
        "id": "O3-rj7VMV3YD"
      },
      "execution_count": null,
      "outputs": []
    },
    {
      "cell_type": "code",
      "source": [
        "# 資料輸入"
      ],
      "metadata": {
        "id": "kXh9z2qbWE0F"
      },
      "execution_count": null,
      "outputs": []
    },
    {
      "cell_type": "markdown",
      "source": [
        "## Expression"
      ],
      "metadata": {
        "id": "rNvdMYw3WRHH"
      }
    },
    {
      "cell_type": "code",
      "source": [
        "# 識別字"
      ],
      "metadata": {
        "id": "OTYFl7bIWW7J"
      },
      "execution_count": null,
      "outputs": []
    },
    {
      "cell_type": "markdown",
      "source": [
        "## Control Flow"
      ],
      "metadata": {
        "id": "fah45MYyW2_B"
      }
    },
    {
      "cell_type": "markdown",
      "source": [
        "### 條件判斷 - 單向條件"
      ],
      "metadata": {
        "id": "ofjyzpizSFan"
      }
    },
    {
      "cell_type": "code",
      "source": [
        "# 高鐵兒童免費"
      ],
      "metadata": {
        "id": "HedkYMjvW5gI"
      },
      "execution_count": null,
      "outputs": []
    },
    {
      "cell_type": "markdown",
      "source": [
        "### 條件判斷 - 雙向條件"
      ],
      "metadata": {
        "id": "DXCkuXYESJDF"
      }
    },
    {
      "cell_type": "code",
      "source": [
        "# 輸入分數後，判斷分數是否及格。"
      ],
      "metadata": {
        "id": "-lJ20EU-XCTc"
      },
      "execution_count": null,
      "outputs": []
    },
    {
      "cell_type": "markdown",
      "source": [
        "### 條件判斷 - 多向條件"
      ],
      "metadata": {
        "id": "WgFok69xSM9M"
      }
    },
    {
      "cell_type": "code",
      "source": [
        "# 輸入分數判斷分數等級"
      ],
      "metadata": {
        "id": "miyV1xL8XHGV"
      },
      "execution_count": null,
      "outputs": []
    },
    {
      "cell_type": "markdown",
      "source": [
        "### 迴圈結構 - for 迴圈"
      ],
      "metadata": {
        "id": "hs_N4zYRRpN3"
      }
    },
    {
      "cell_type": "code",
      "source": [
        "# 等差級數和"
      ],
      "metadata": {
        "id": "gRlnC4AISVBF"
      },
      "execution_count": null,
      "outputs": []
    },
    {
      "cell_type": "markdown",
      "source": [
        "### 迴圈結構 - while 迴圈"
      ],
      "metadata": {
        "id": "A-5Fj7YMR1a6"
      }
    },
    {
      "cell_type": "code",
      "source": [
        "# 輸入正確的密碼才能通過"
      ],
      "metadata": {
        "id": "5X6DlNsiSSp9"
      },
      "execution_count": null,
      "outputs": []
    },
    {
      "cell_type": "markdown",
      "source": [
        "### 迴圈結構 - 特殊控制"
      ],
      "metadata": {
        "id": "SaxjdRcER43L"
      }
    },
    {
      "cell_type": "markdown",
      "source": [
        "### 例外處理"
      ],
      "metadata": {
        "id": "5JjtC4_fR7st"
      }
    },
    {
      "cell_type": "code",
      "source": [
        "# 取餘數"
      ],
      "metadata": {
        "id": "Y8azjCC9SCKP"
      },
      "execution_count": null,
      "outputs": []
    },
    {
      "cell_type": "markdown",
      "source": [
        "## String"
      ],
      "metadata": {
        "id": "zwsQPLD-SjhT"
      }
    },
    {
      "cell_type": "markdown",
      "source": [
        "### 字串格式化"
      ],
      "metadata": {
        "id": "zNWzfjtFSxQi"
      }
    },
    {
      "cell_type": "code",
      "source": [
        "# % () 格式"
      ],
      "metadata": {
        "id": "CO4om3ROTAzd"
      },
      "execution_count": null,
      "outputs": []
    },
    {
      "cell_type": "code",
      "source": [
        "# str.format() 格式"
      ],
      "metadata": {
        "id": "OP67XJo6TGjf"
      },
      "execution_count": null,
      "outputs": []
    },
    {
      "cell_type": "code",
      "source": [
        "# f'string' 格式"
      ],
      "metadata": {
        "id": "bfQ8eabtTNSC"
      },
      "execution_count": null,
      "outputs": []
    },
    {
      "cell_type": "markdown",
      "source": [
        "### 字串切片"
      ],
      "metadata": {
        "id": "gzZVt7KOTTNX"
      }
    },
    {
      "cell_type": "code",
      "source": [],
      "metadata": {
        "id": "5zl2mqolcfvq"
      },
      "execution_count": null,
      "outputs": []
    },
    {
      "cell_type": "markdown",
      "source": [
        "### 常用的字串方法"
      ],
      "metadata": {
        "id": "zWJO-pKOcgXZ"
      }
    },
    {
      "cell_type": "code",
      "source": [
        "# split()"
      ],
      "metadata": {
        "id": "25FpcgCqcpTv"
      },
      "execution_count": null,
      "outputs": []
    },
    {
      "cell_type": "code",
      "source": [
        "# replace()"
      ],
      "metadata": {
        "id": "qwXccDTFcxu6"
      },
      "execution_count": null,
      "outputs": []
    },
    {
      "cell_type": "markdown",
      "source": [
        "## Container"
      ],
      "metadata": {
        "id": "s5JUYItcc8rb"
      }
    },
    {
      "cell_type": "markdown",
      "source": [
        "### Tuple (序對)"
      ],
      "metadata": {
        "id": "3-GDI-5-dUci"
      }
    },
    {
      "cell_type": "code",
      "source": [],
      "metadata": {
        "id": "H_7giE3hdXAm"
      },
      "execution_count": null,
      "outputs": []
    },
    {
      "cell_type": "markdown",
      "source": [
        "### List (串列)"
      ],
      "metadata": {
        "id": "GU2-EgStdXhM"
      }
    },
    {
      "cell_type": "code",
      "source": [
        "# 串列 sort()"
      ],
      "metadata": {
        "id": "6n6NuiNedYa8"
      },
      "execution_count": null,
      "outputs": []
    },
    {
      "cell_type": "code",
      "source": [
        "# 串列 map()"
      ],
      "metadata": {
        "id": "4yJs6osBdf8A"
      },
      "execution_count": null,
      "outputs": []
    },
    {
      "cell_type": "code",
      "source": [
        "# 串列 join()"
      ],
      "metadata": {
        "id": "EYWplPt9dnCq"
      },
      "execution_count": null,
      "outputs": []
    },
    {
      "cell_type": "code",
      "source": [
        "# 串列 enumerate()"
      ],
      "metadata": {
        "id": "vnBT0pCPeGZ_"
      },
      "execution_count": null,
      "outputs": []
    },
    {
      "cell_type": "code",
      "source": [
        "# 列表生成式"
      ],
      "metadata": {
        "id": "e2SEacUXeNSi"
      },
      "execution_count": null,
      "outputs": []
    },
    {
      "cell_type": "code",
      "source": [
        "# 列表生成式, 只保留偶數"
      ],
      "metadata": {
        "id": "_N1vYaLveW8w"
      },
      "execution_count": null,
      "outputs": []
    },
    {
      "cell_type": "markdown",
      "source": [
        "### Dict（字典）"
      ],
      "metadata": {
        "id": "gzDJSTJyeesr"
      }
    },
    {
      "cell_type": "code",
      "source": [
        "# 建立字典\n",
        "student_scores = {\"Alice\": 85, \"Bob\": 90, \"Charlie\": 78}\n",
        "# 訪問字典中的值\n",
        "\n",
        "# 新增或更新字典中的項目\n",
        "\n",
        "# 刪除字典中的項目\n"
      ],
      "metadata": {
        "id": "ohFA0JDynB7V"
      },
      "execution_count": null,
      "outputs": []
    },
    {
      "cell_type": "code",
      "source": [
        "# 使用 get 方法安全地查找值\n",
        "\n",
        "# 檢查某個鍵是否存在於字典中\n"
      ],
      "metadata": {
        "id": "F_Xiea6QnLuw"
      },
      "execution_count": null,
      "outputs": []
    },
    {
      "cell_type": "code",
      "source": [
        "# 獲取所有鍵\n",
        "\n",
        "# 獲取所有值\n",
        "\n",
        "# 獲取所有鍵值對\n"
      ],
      "metadata": {
        "id": "ZY3wqYC4ngNS"
      },
      "execution_count": null,
      "outputs": []
    },
    {
      "cell_type": "code",
      "source": [
        "# 遍歷鍵值對\n",
        "\n",
        "# 遍歷鍵\n",
        "\n",
        "# 遍歷值\n"
      ],
      "metadata": {
        "id": "jmvpPQWynpk-"
      },
      "execution_count": null,
      "outputs": []
    },
    {
      "cell_type": "markdown",
      "source": [
        "### Set（集合）"
      ],
      "metadata": {
        "id": "eBujH5kjnxR4"
      }
    },
    {
      "cell_type": "code",
      "source": [
        "# 建立集合\n",
        "my_set = {1, 2, 3, 4, 5}\n",
        "# 添加元素\n",
        "\n",
        "\n",
        "# 移除元素\n",
        "# 使用 remove 如果元素不存在，會引發 KeyError\n",
        "\n",
        "# 使用 discard 方法移除元素（不存在也不會報錯）\n",
        "\n",
        "# 清空集合\n"
      ],
      "metadata": {
        "id": "yt1PpWZtzQgw"
      },
      "execution_count": null,
      "outputs": []
    },
    {
      "cell_type": "code",
      "source": [
        "# 集合的基本運算\n",
        "set_a = {1, 2, 3, 4}\n",
        "set_b = {3, 4, 5, 6}\n",
        "# 聯集（Union）\n",
        "\n",
        "\n",
        "# 交集（Intersection）\n",
        "\n",
        "\n",
        "# 差集（Difference）\n",
        "\n"
      ],
      "metadata": {
        "id": "9UzSg4QIz1gZ"
      },
      "execution_count": null,
      "outputs": []
    },
    {
      "cell_type": "markdown",
      "source": [
        "## Function"
      ],
      "metadata": {
        "id": "YQLzKv9u0cHr"
      }
    },
    {
      "cell_type": "code",
      "source": [
        "# 內建函式\n",
        "dir(__builtins__)"
      ],
      "metadata": {
        "id": "lw8VTL2E0jk4"
      },
      "execution_count": null,
      "outputs": []
    },
    {
      "cell_type": "code",
      "source": [
        "# 自訂函式\n",
        "# 定義一個函式，計算兩個數字的和\n",
        "\n",
        "\n",
        "\n",
        "# 呼叫函式並接收回傳值\n",
        "\n"
      ],
      "metadata": {
        "id": "nxoypnzs0zXT"
      },
      "execution_count": null,
      "outputs": []
    },
    {
      "cell_type": "code",
      "source": [
        "# 預設參數"
      ],
      "metadata": {
        "id": "a3cYxQ6b1DNF"
      },
      "execution_count": null,
      "outputs": []
    },
    {
      "cell_type": "code",
      "source": [
        "# 回傳值"
      ],
      "metadata": {
        "id": "o0cdP3AD1Hxf"
      },
      "execution_count": null,
      "outputs": []
    },
    {
      "cell_type": "code",
      "source": [
        "# 使用 lambda 計算兩數的加總"
      ],
      "metadata": {
        "id": "-s8r31zM1WL5"
      },
      "execution_count": null,
      "outputs": []
    },
    {
      "cell_type": "code",
      "source": [
        "# 使用 map 與 lambda 計算平方"
      ],
      "metadata": {
        "id": "DAaPRleF1kgg"
      },
      "execution_count": null,
      "outputs": []
    },
    {
      "cell_type": "markdown",
      "source": [
        "### Gradio 模組"
      ],
      "metadata": {
        "id": "nfDgP_6Z2d1g"
      }
    },
    {
      "cell_type": "code",
      "source": [
        "import gradio as gr"
      ],
      "metadata": {
        "id": "joEV_p4r2kId"
      },
      "execution_count": null,
      "outputs": []
    },
    {
      "cell_type": "markdown",
      "source": [
        "## File"
      ],
      "metadata": {
        "id": "wJLHHYuY4gzi"
      }
    },
    {
      "cell_type": "code",
      "source": [
        "# 讀取檔案\n",
        "\n"
      ],
      "metadata": {
        "id": "7wL3wyw25ebv"
      },
      "execution_count": null,
      "outputs": []
    },
    {
      "cell_type": "code",
      "source": [
        "# 寫入檔案\n"
      ],
      "metadata": {
        "id": "uEXtpDuj5xuA"
      },
      "execution_count": 5,
      "outputs": []
    },
    {
      "cell_type": "code",
      "source": [
        "# 讀取檔案 with open() as\n"
      ],
      "metadata": {
        "id": "ZoWok4G46ebQ"
      },
      "execution_count": null,
      "outputs": []
    },
    {
      "cell_type": "code",
      "source": [
        "# 寫入檔案 with open() as"
      ],
      "metadata": {
        "id": "eT_TqfGB6uzV"
      },
      "execution_count": null,
      "outputs": []
    },
    {
      "cell_type": "markdown",
      "source": [
        "## Module"
      ],
      "metadata": {
        "id": "pFdfcCeq63Gd"
      }
    },
    {
      "cell_type": "code",
      "source": [],
      "metadata": {
        "id": "2QiuJ8e962cM"
      },
      "execution_count": null,
      "outputs": []
    }
  ]
}